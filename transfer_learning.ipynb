{
  "cells": [
    {
      "cell_type": "markdown",
      "metadata": {
        "id": "JB423TPLep4o"
      },
      "source": [
        "# Convolutional Neural Networks\n",
        "\n",
        "## Project: Write an Algorithm for Landmark Classification\n",
        "\n",
        "\n",
        "### Transfer learning\n",
        "\n",
        "In the previous notebook we have trained our own CNN and we got a certain performance. Let's see how hard it is to match that performance with transfer learning.\n",
        "\n",
        "---\n",
        "## <img src=\"https://github.com/ngotacoding/Landmarks-Classification/blob/main/static_images/icons/noun-advance-2109145.png?raw=1\" alt=\">\" style=\"width:50px\"/> Step 0: Setting up\n",
        "\n",
        "The following cells make sure that your environment is setup correctly and check that your GPU is available and ready to go. You have to execute them every time you restart your notebook."
      ]
    },
    {
      "cell_type": "code",
      "execution_count": 2,
      "metadata": {
        "colab": {
          "base_uri": "https://localhost:8080/"
        },
        "id": "GMePEYyBep4q",
        "outputId": "af0cd1a4-07a1-4299-9a35-5352d4b78061"
      },
      "outputs": [
        {
          "name": "stdout",
          "output_type": "stream",
          "text": [
            "Requirement already satisfied: livelossplot in /usr/local/lib/python3.10/dist-packages (0.5.5)\n",
            "Requirement already satisfied: matplotlib in /usr/local/lib/python3.10/dist-packages (from livelossplot) (3.7.1)\n",
            "Requirement already satisfied: bokeh in /usr/local/lib/python3.10/dist-packages (from livelossplot) (3.3.2)\n",
            "Requirement already satisfied: Jinja2>=2.9 in /usr/local/lib/python3.10/dist-packages (from bokeh->livelossplot) (3.1.2)\n",
            "Requirement already satisfied: contourpy>=1 in /usr/local/lib/python3.10/dist-packages (from bokeh->livelossplot) (1.2.0)\n",
            "Requirement already satisfied: numpy>=1.16 in /usr/local/lib/python3.10/dist-packages (from bokeh->livelossplot) (1.23.5)\n",
            "Requirement already satisfied: packaging>=16.8 in /usr/local/lib/python3.10/dist-packages (from bokeh->livelossplot) (23.2)\n",
            "Requirement already satisfied: pandas>=1.2 in /usr/local/lib/python3.10/dist-packages (from bokeh->livelossplot) (1.5.3)\n",
            "Requirement already satisfied: pillow>=7.1.0 in /usr/local/lib/python3.10/dist-packages (from bokeh->livelossplot) (9.4.0)\n",
            "Requirement already satisfied: PyYAML>=3.10 in /usr/local/lib/python3.10/dist-packages (from bokeh->livelossplot) (6.0.1)\n",
            "Requirement already satisfied: tornado>=5.1 in /usr/local/lib/python3.10/dist-packages (from bokeh->livelossplot) (6.3.2)\n",
            "Requirement already satisfied: xyzservices>=2021.09.1 in /usr/local/lib/python3.10/dist-packages (from bokeh->livelossplot) (2023.10.1)\n",
            "Requirement already satisfied: cycler>=0.10 in /usr/local/lib/python3.10/dist-packages (from matplotlib->livelossplot) (0.12.1)\n",
            "Requirement already satisfied: fonttools>=4.22.0 in /usr/local/lib/python3.10/dist-packages (from matplotlib->livelossplot) (4.47.0)\n",
            "Requirement already satisfied: kiwisolver>=1.0.1 in /usr/local/lib/python3.10/dist-packages (from matplotlib->livelossplot) (1.4.5)\n",
            "Requirement already satisfied: pyparsing>=2.3.1 in /usr/local/lib/python3.10/dist-packages (from matplotlib->livelossplot) (3.1.1)\n",
            "Requirement already satisfied: python-dateutil>=2.7 in /usr/local/lib/python3.10/dist-packages (from matplotlib->livelossplot) (2.8.2)\n",
            "Requirement already satisfied: MarkupSafe>=2.0 in /usr/local/lib/python3.10/dist-packages (from Jinja2>=2.9->bokeh->livelossplot) (2.1.3)\n",
            "Requirement already satisfied: pytz>=2020.1 in /usr/local/lib/python3.10/dist-packages (from pandas>=1.2->bokeh->livelossplot) (2023.3.post1)\n",
            "Requirement already satisfied: six>=1.5 in /usr/local/lib/python3.10/dist-packages (from python-dateutil>=2.7->matplotlib->livelossplot) (1.16.0)\n",
            "Requirement already satisfied: pytest in /usr/local/lib/python3.10/dist-packages (7.4.4)\n",
            "Requirement already satisfied: iniconfig in /usr/local/lib/python3.10/dist-packages (from pytest) (2.0.0)\n",
            "Requirement already satisfied: packaging in /usr/local/lib/python3.10/dist-packages (from pytest) (23.2)\n",
            "Requirement already satisfied: pluggy<2.0,>=0.12 in /usr/local/lib/python3.10/dist-packages (from pytest) (1.3.0)\n",
            "Requirement already satisfied: exceptiongroup>=1.0.0rc8 in /usr/local/lib/python3.10/dist-packages (from pytest) (1.2.0)\n",
            "Requirement already satisfied: tomli>=1.0.0 in /usr/local/lib/python3.10/dist-packages (from pytest) (2.0.1)\n"
          ]
        }
      ],
      "source": [
        "# Install requirements\n",
        "# !pip install -r requirements.txt | grep -v \"already satisfied\"\n",
        "# !pip install livelossplot\n",
        "# !pip install pytest"
      ]
    },
    {
      "cell_type": "code",
      "execution_count": 3,
      "metadata": {
        "colab": {
          "base_uri": "https://localhost:8080/"
        },
        "id": "CwvNRfw6ep4s",
        "outputId": "830f47b1-8958-4ae6-800e-1a59fdf6cdd2"
      },
      "outputs": [
        {
          "name": "stdout",
          "output_type": "stream",
          "text": [
            "GPU available\n",
            "Dataset already downloaded. If you need to re-download, please delete the directory landmark_images\n",
            "Reusing cached mean and std\n"
          ]
        }
      ],
      "source": [
        "from src.helpers import setup_env\n",
        "\n",
        "# If running locally, this will download dataset (make sure you have at\n",
        "# least 2 Gb of space on your hard drive)\n",
        "setup_env()"
      ]
    },
    {
      "cell_type": "markdown",
      "metadata": {
        "id": "khWX7Z80ep4t"
      },
      "source": [
        "---\n",
        "## <img src=\"https://github.com/ngotacoding/Landmarks-Classification/blob/main/static_images/icons/noun-advance-2109145.png?raw=1\" alt=\">\" style=\"width:50px\"/> Step 1: Create transfer learning architecture\n",
        "\n",
        "Open the file `src/transfer.py` and complete the `get_model_transfer_learning` function. When you are done, execute this test:"
      ]
    },
    {
      "cell_type": "code",
      "execution_count": 4,
      "metadata": {
        "colab": {
          "base_uri": "https://localhost:8080/"
        },
        "id": "iORGie7xep4u",
        "outputId": "86a0802f-4241-4d57-8185-666c75743ac0"
      },
      "outputs": [
        {
          "name": "stdout",
          "output_type": "stream",
          "text": [
            "\u001b[1m======================================= test session starts ========================================\u001b[0m\n",
            "platform linux -- Python 3.10.12, pytest-7.4.4, pluggy-1.3.0 -- /usr/bin/python3\n",
            "cachedir: .pytest_cache\n",
            "rootdir: /content\n",
            "plugins: anyio-3.7.1\n",
            "collected 1 item                                                                                   \u001b[0m\n",
            "\n",
            "src/transfer.py::test_get_model_transfer_learning \u001b[32mPASSED\u001b[0m\u001b[32m                                     [100%]\u001b[0m\n",
            "\n",
            "\u001b[33m========================================= warnings summary =========================================\u001b[0m\n",
            "src/transfer.py::test_get_model_transfer_learning\n",
            "  /usr/local/lib/python3.10/dist-packages/torchvision/models/_utils.py:208: UserWarning: The parameter 'pretrained' is deprecated since 0.13 and may be removed in the future, please use 'weights' instead.\n",
            "    warnings.warn(\n",
            "\n",
            "src/transfer.py::test_get_model_transfer_learning\n",
            "  /usr/local/lib/python3.10/dist-packages/torchvision/models/_utils.py:223: UserWarning: Arguments other than a weight enum or `None` for 'weights' are deprecated since 0.13 and may be removed in the future. The current behavior is equivalent to passing `weights=ResNet18_Weights.IMAGENET1K_V1`. You can also use `weights=ResNet18_Weights.DEFAULT` to get the most up-to-date weights.\n",
            "    warnings.warn(msg)\n",
            "\n",
            "-- Docs: https://docs.pytest.org/en/stable/how-to/capture-warnings.html\n",
            "\u001b[33m================================== \u001b[32m1 passed\u001b[0m, \u001b[33m\u001b[1m2 warnings\u001b[0m\u001b[33m in 3.81s\u001b[0m\u001b[33m ===================================\u001b[0m\n"
          ]
        }
      ],
      "source": [
        "!pytest -vv src/transfer.py"
      ]
    },
    {
      "cell_type": "markdown",
      "metadata": {
        "id": "YAmFh9Bxep4u"
      },
      "source": [
        "---\n",
        "## <img src=\"https://github.com/ngotacoding/Landmarks-Classification/blob/main/static_images/icons/noun-advance-2109145.png?raw=1\" alt=\">\" style=\"width:50px\"/> Step 2: Train, validation and test\n",
        "\n",
        "Let's train our transfer learning model! Let's start defining the hyperparameters:"
      ]
    },
    {
      "cell_type": "code",
      "execution_count": 5,
      "metadata": {
        "id": "ZkVYC86Bep4v"
      },
      "outputs": [],
      "source": [
        "batch_size = 64  # size of the minibatch for stochastic gradient descent (or Adam)\n",
        "valid_size = 0.2  # fraction of the training data to reserve for validation\n",
        "num_epochs = 30  # number of epochs for training\n",
        "num_classes = 50  # number of classes. Do not change this\n",
        "learning_rate = 0.001  # Learning rate for SGD (or Adam)\n",
        "opt = 'adam'      # optimizer. 'sgd' or 'adam'\n",
        "weight_decay = 0.0 # regularization. Increase this to combat overfitting"
      ]
    },
    {
      "cell_type": "code",
      "execution_count": 6,
      "metadata": {
        "colab": {
          "base_uri": "https://localhost:8080/",
          "height": 806
        },
        "id": "OHWdrObuep4w",
        "outputId": "e0517eab-9620-403a-a6ef-15790f380ab5"
      },
      "outputs": [
        {
          "data": {
            "image/png": "[encoded data removed]",
            "text/plain": [
              "<Figure size 1200x800 with 2 Axes>"
            ]
          },
          "metadata": {},
          "output_type": "display_data"
        }
      ],
      "source": [
        "from src.data import get_data_loaders\n",
        "from src.optimization import get_optimizer, get_loss\n",
        "from src.train import optimize\n",
        "from src.transfer import get_model_transfer_learning\n",
        "\n",
        "# Get a model using get_model_transfer_learning. Use one of the names reported here:\n",
        "# https://pytorch.org/vision/0.10/models.html\n",
        "# For example, if you want to load ResNet 18, use \"resnet18\"\n",
        "# NOTE: use the hyperparameters defined in the previous cell, do NOT copy/paste the\n",
        "# values\n",
        "model_transfer = get_model_transfer_learning(model_name=\"resnet50\",\n",
        "                                             n_classes=50)\n",
        "\n",
        "# train the model\n",
        "data_loaders = get_data_loaders(batch_size=batch_size)\n",
        "optimizer = get_optimizer(\n",
        "    model_transfer,\n",
        "    learning_rate=learning_rate,\n",
        "    optimizer=opt,\n",
        "    weight_decay=weight_decay,\n",
        ")\n",
        "loss = get_loss()\n",
        "\n",
        "optimize(\n",
        "    data_loaders,\n",
        "    model_transfer,\n",
        "    optimizer,\n",
        "    loss,\n",
        "    n_epochs=num_epochs,\n",
        "    save_path=\"checkpoints/model_transfer.pt\",\n",
        "    interactive_tracking=True\n",
        ")"
      ]
    },
    {
      "cell_type": "markdown",
      "metadata": {
        "id": "NqHPVp4_ep4x"
      },
      "source": [
        "<img src=\"https://github.com/ngotacoding/Landmarks-Classification/blob/main/static_images/icons/noun-question-mark-869751.png?raw=1\" alt=\"?\" style=\"width:25px\"/> __Question:__ Outline the steps you took to get to your final CNN architecture and your reasoning at each step.  Describe why you think the architecture is suitable for the current problem."
      ]
    },
    {
      "cell_type": "markdown",
      "metadata": {
        "id": "4J_gAurYep4x"
      },
      "source": [
        "<img src=\"https://github.com/ngotacoding/Landmarks-Classification/blob/main/static_images/icons/noun-answer-3361020.png?raw=1\" alt=\">\" style=\"width:25px\"/>  __Answer:__ I decided to use ResNet50 for the base of my model, since it performs fairly well on ImageNet and is not too large of a model. Also, since ResNet50 was trained for the ImageNet task, it is a good model to use for this landmark classificaiton task, since both ImageNet and this landmark task use images of natural scenes."
      ]
    },
    {
      "cell_type": "markdown",
      "metadata": {
        "id": "RLOmMhUVep4x"
      },
      "source": [
        "Now play with the hyperparameters and see which performance you can get on the validation set. You should get at least 60% for a passing grade, but a good model choice and a good training strategy could get you up to 80% or so. Let's see how close you can get!"
      ]
    },
    {
      "cell_type": "markdown",
      "metadata": {
        "id": "lB5r1OvRep4x"
      },
      "source": [
        "---\n",
        "## <img src=\"https://github.com/ngotacoding/Landmarks-Classification/blob/main/static_images/icons/noun-advance-2109145.png?raw=1\" alt=\">\" style=\"width:50px\"/> Step 3: Test the Model\n",
        "\n",
        "Try out your model on the test dataset of landmark images. Use the code cell below to calculate and print the test loss and accuracy.  Ensure that your test accuracy is greater than 60% and matches more or less what you got on the validation set (otherwise you're overfitting!)"
      ]
    },
    {
      "cell_type": "code",
      "execution_count": 8,
      "metadata": {
        "colab": {
          "base_uri": "https://localhost:8080/"
        },
        "id": "m4yPvv7oep4y",
        "outputId": "77978a02-dc31-4f2b-dead-d4b55339ca4b"
      },
      "outputs": [
        {
          "name": "stderr",
          "output_type": "stream",
          "text": [
            "Testing: 100%|██████████████████████████████████| 20/20 [00:10<00:00,  1.83it/s]"
          ]
        },
        {
          "name": "stdout",
          "output_type": "stream",
          "text": [
            "Test Loss: 0.885909\n",
            "\n",
            "\n",
            "Test Accuracy: 77% (964/1250)\n"
          ]
        },
        {
          "name": "stderr",
          "output_type": "stream",
          "text": [
            "\n"
          ]
        },
        {
          "data": {
            "text/plain": [
              "0.8859087005257605"
            ]
          },
          "execution_count": 8,
          "metadata": {},
          "output_type": "execute_result"
        }
      ],
      "source": [
        "import torch\n",
        "from src.train import one_epoch_test\n",
        "from src.transfer import get_model_transfer_learning\n",
        "\n",
        "model_transfer = get_model_transfer_learning(\"resnet50\", n_classes=num_classes)\n",
        "# Load saved weights\n",
        "model_transfer.load_state_dict(torch.load('checkpoints/model_transfer.pt'))\n",
        "\n",
        "one_epoch_test(data_loaders['test'], model_transfer, loss)"
      ]
    },
    {
      "cell_type": "markdown",
      "metadata": {
        "id": "FPefRLixep4y"
      },
      "source": [
        "---\n",
        "## <img src=\"https://github.com/ngotacoding/Landmarks-Classification/blob/main/static_images/icons/noun-advance-2109145.png?raw=1\" alt=\">\" style=\"width:50px\"/> Step 4: Export using torchscript\n",
        "\n",
        "Now, just like we did with our original model, we export the best fit model using torchscript so that it can be used in our application:"
      ]
    },
    {
      "cell_type": "code",
      "execution_count": null,
      "metadata": {
        "id": "cz9mkUDKep4y"
      },
      "outputs": [],
      "source": [
        "from src.predictor import Predictor\n",
        "from src.helpers import compute_mean_and_std\n",
        "\n",
        "# First let's get the class names from our data loaders\n",
        "class_names = data_loaders[\"train\"].dataset.classes\n",
        "\n",
        "# Then let's move the model_transfer to the CPU\n",
        "# (we don't need GPU for inference)\n",
        "model_transfer = model_transfer.cpu()\n",
        "# Let's make sure we use the right weights by loading the\n",
        "# best weights we have found during training\n",
        "# NOTE: remember to use map_location='cpu' so the weights\n",
        "# are loaded on the CPU (and not the GPU)\n",
        "model_transfer.load_state_dict(\n",
        "    torch.load(\"checkpoints/model_transfer.pt\", map_location=\"cpu\")\n",
        ")\n",
        "\n",
        "# Let's wrap our model using the predictor class\n",
        "mean, std = compute_mean_and_std()\n",
        "predictor = Predictor(model_transfer, class_names, mean, std).cpu()\n",
        "\n",
        "# Export using torch.jit.script\n",
        "scripted_predictor = torch.jit.script(predictor)\n",
        "scripted_predictor.save(\"checkpoints/transfer_exported.pt\")"
      ]
    },
    {
      "cell_type": "code",
      "execution_count": null,
      "metadata": {
        "id": "F-RagU4hep4y"
      },
      "outputs": [],
      "source": [
        "import torch\n",
        "from src.predictor import predictor_test\n",
        "from src.helpers import plot_confusion_matrix\n",
        "\n",
        "model_reloaded = torch.jit.load(\"checkpoints/transfer_exported.pt\")\n",
        "\n",
        "pred, truth = predictor_test(data_loaders['test'], model_reloaded)\n",
        "\n",
        "plot_confusion_matrix(pred, truth)"
      ]
    }
  ],
  "metadata": {
    "accelerator": "GPU",
    "colab": {
      "gpuType": "T4",
      "provenance": []
    },
    "kernelspec": {
      "display_name": "Python [conda env:udacity_starter]",
      "language": "python",
      "name": "conda-env-udacity_starter-py"
    },
    "language_info": {
      "codemirror_mode": {
        "name": "ipython",
        "version": 3
      },
      "file_extension": ".py",
      "mimetype": "text/x-python",
      "name": "python",
      "nbconvert_exporter": "python",
      "pygments_lexer": "ipython3",
      "version": "3.7.6"
    }
  },
  "nbformat": 4,
  "nbformat_minor": 0
}
